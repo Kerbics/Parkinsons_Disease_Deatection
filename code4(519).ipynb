{
 "cells": [
  {
   "cell_type": "code",
   "execution_count": 1,
   "id": "00d2ad57-b1b3-4e43-9172-93e2e02d9bae",
   "metadata": {},
   "outputs": [],
   "source": [
    "import numpy as np\n",
    "import pandas as pd\n",
    "from sklearn.model_selection import train_test_split, cross_val_score, GridSearchCV\n",
    "from sklearn.preprocessing import StandardScaler\n",
    "from sklearn.naive_bayes import GaussianNB\n",
    "from sklearn.neural_network import MLPClassifier\n",
    "from sklearn.ensemble import RandomForestClassifier\n",
    "from sklearn.svm import SVC\n",
    "from sklearn.feature_selection import SelectKBest,SelectFromModel, RFE, f_classif\n",
    "from imblearn.over_sampling import SMOTE\n",
    "from sklearn.metrics import confusion_matrix, accuracy_score, precision_score, recall_score\n",
    "import time\n"
   ]
  },
  {
   "cell_type": "code",
   "execution_count": 2,
   "id": "1b167854-c5ef-414f-a8d8-807f615064d0",
   "metadata": {},
   "outputs": [],
   "source": [
    "dt = pd.read_csv('actual_dt.csv')\n",
    "dt.dropna(inplace = True)\n",
    "dt.drop_duplicates(inplace = True)"
   ]
  },
  {
   "cell_type": "code",
   "execution_count": 3,
   "id": "baaf4106-46b0-4c6b-83ed-148dc259012e",
   "metadata": {},
   "outputs": [],
   "source": [
    "X = dt.drop(['class', 'id'], axis=1)\n",
    "y = dt['class']"
   ]
  },
  {
   "cell_type": "code",
   "execution_count": 4,
   "id": "8ac2c4d3-e3c0-48e6-b356-c6866b43f099",
   "metadata": {},
   "outputs": [
    {
     "data": {
      "text/html": [
       "<div>\n",
       "<style scoped>\n",
       "    .dataframe tbody tr th:only-of-type {\n",
       "        vertical-align: middle;\n",
       "    }\n",
       "\n",
       "    .dataframe tbody tr th {\n",
       "        vertical-align: top;\n",
       "    }\n",
       "\n",
       "    .dataframe thead th {\n",
       "        text-align: right;\n",
       "    }\n",
       "</style>\n",
       "<table border=\"1\" class=\"dataframe\">\n",
       "  <thead>\n",
       "    <tr style=\"text-align: right;\">\n",
       "      <th></th>\n",
       "      <th>gender</th>\n",
       "      <th>PPE</th>\n",
       "      <th>DFA</th>\n",
       "      <th>RPDE</th>\n",
       "      <th>numPulses</th>\n",
       "      <th>numPeriodsPulses</th>\n",
       "      <th>meanPeriodPulses</th>\n",
       "      <th>stdDevPeriodPulses</th>\n",
       "      <th>locPctJitter</th>\n",
       "      <th>locAbsJitter</th>\n",
       "      <th>...</th>\n",
       "      <th>tqwt_kurtosisValue_dec_27</th>\n",
       "      <th>tqwt_kurtosisValue_dec_28</th>\n",
       "      <th>tqwt_kurtosisValue_dec_29</th>\n",
       "      <th>tqwt_kurtosisValue_dec_30</th>\n",
       "      <th>tqwt_kurtosisValue_dec_31</th>\n",
       "      <th>tqwt_kurtosisValue_dec_32</th>\n",
       "      <th>tqwt_kurtosisValue_dec_33</th>\n",
       "      <th>tqwt_kurtosisValue_dec_34</th>\n",
       "      <th>tqwt_kurtosisValue_dec_35</th>\n",
       "      <th>tqwt_kurtosisValue_dec_36</th>\n",
       "    </tr>\n",
       "  </thead>\n",
       "  <tbody>\n",
       "    <tr>\n",
       "      <th>0</th>\n",
       "      <td>1</td>\n",
       "      <td>0.85247</td>\n",
       "      <td>0.71826</td>\n",
       "      <td>0.57227</td>\n",
       "      <td>240</td>\n",
       "      <td>239</td>\n",
       "      <td>0.008064</td>\n",
       "      <td>0.000087</td>\n",
       "      <td>0.00218</td>\n",
       "      <td>0.000018</td>\n",
       "      <td>...</td>\n",
       "      <td>1.5466</td>\n",
       "      <td>1.5620</td>\n",
       "      <td>2.6445</td>\n",
       "      <td>3.8686</td>\n",
       "      <td>4.2105</td>\n",
       "      <td>5.1221</td>\n",
       "      <td>4.4625</td>\n",
       "      <td>2.6202</td>\n",
       "      <td>3.0004</td>\n",
       "      <td>18.9405</td>\n",
       "    </tr>\n",
       "    <tr>\n",
       "      <th>1</th>\n",
       "      <td>1</td>\n",
       "      <td>0.76686</td>\n",
       "      <td>0.69481</td>\n",
       "      <td>0.53966</td>\n",
       "      <td>234</td>\n",
       "      <td>233</td>\n",
       "      <td>0.008258</td>\n",
       "      <td>0.000073</td>\n",
       "      <td>0.00195</td>\n",
       "      <td>0.000016</td>\n",
       "      <td>...</td>\n",
       "      <td>1.5530</td>\n",
       "      <td>1.5589</td>\n",
       "      <td>3.6107</td>\n",
       "      <td>23.5155</td>\n",
       "      <td>14.1962</td>\n",
       "      <td>11.0261</td>\n",
       "      <td>9.5082</td>\n",
       "      <td>6.5245</td>\n",
       "      <td>6.3431</td>\n",
       "      <td>45.1780</td>\n",
       "    </tr>\n",
       "    <tr>\n",
       "      <th>2</th>\n",
       "      <td>1</td>\n",
       "      <td>0.85083</td>\n",
       "      <td>0.67604</td>\n",
       "      <td>0.58982</td>\n",
       "      <td>232</td>\n",
       "      <td>231</td>\n",
       "      <td>0.008340</td>\n",
       "      <td>0.000060</td>\n",
       "      <td>0.00176</td>\n",
       "      <td>0.000015</td>\n",
       "      <td>...</td>\n",
       "      <td>1.5399</td>\n",
       "      <td>1.5643</td>\n",
       "      <td>2.3308</td>\n",
       "      <td>9.4959</td>\n",
       "      <td>10.7458</td>\n",
       "      <td>11.0177</td>\n",
       "      <td>4.8066</td>\n",
       "      <td>2.9199</td>\n",
       "      <td>3.1495</td>\n",
       "      <td>4.7666</td>\n",
       "    </tr>\n",
       "    <tr>\n",
       "      <th>3</th>\n",
       "      <td>0</td>\n",
       "      <td>0.41121</td>\n",
       "      <td>0.79672</td>\n",
       "      <td>0.59257</td>\n",
       "      <td>178</td>\n",
       "      <td>177</td>\n",
       "      <td>0.010858</td>\n",
       "      <td>0.000183</td>\n",
       "      <td>0.00419</td>\n",
       "      <td>0.000046</td>\n",
       "      <td>...</td>\n",
       "      <td>6.9761</td>\n",
       "      <td>3.7805</td>\n",
       "      <td>3.5664</td>\n",
       "      <td>5.2558</td>\n",
       "      <td>14.0403</td>\n",
       "      <td>4.2235</td>\n",
       "      <td>4.6857</td>\n",
       "      <td>4.8460</td>\n",
       "      <td>6.2650</td>\n",
       "      <td>4.0603</td>\n",
       "    </tr>\n",
       "    <tr>\n",
       "      <th>4</th>\n",
       "      <td>0</td>\n",
       "      <td>0.32790</td>\n",
       "      <td>0.79782</td>\n",
       "      <td>0.53028</td>\n",
       "      <td>236</td>\n",
       "      <td>235</td>\n",
       "      <td>0.008162</td>\n",
       "      <td>0.002669</td>\n",
       "      <td>0.00535</td>\n",
       "      <td>0.000044</td>\n",
       "      <td>...</td>\n",
       "      <td>7.8832</td>\n",
       "      <td>6.1727</td>\n",
       "      <td>5.8416</td>\n",
       "      <td>6.0805</td>\n",
       "      <td>5.7621</td>\n",
       "      <td>7.7817</td>\n",
       "      <td>11.6891</td>\n",
       "      <td>8.2103</td>\n",
       "      <td>5.0559</td>\n",
       "      <td>6.1164</td>\n",
       "    </tr>\n",
       "  </tbody>\n",
       "</table>\n",
       "<p>5 rows × 753 columns</p>\n",
       "</div>"
      ],
      "text/plain": [
       "   gender      PPE      DFA     RPDE  numPulses  numPeriodsPulses  \\\n",
       "0       1  0.85247  0.71826  0.57227        240               239   \n",
       "1       1  0.76686  0.69481  0.53966        234               233   \n",
       "2       1  0.85083  0.67604  0.58982        232               231   \n",
       "3       0  0.41121  0.79672  0.59257        178               177   \n",
       "4       0  0.32790  0.79782  0.53028        236               235   \n",
       "\n",
       "   meanPeriodPulses  stdDevPeriodPulses  locPctJitter  locAbsJitter  ...  \\\n",
       "0          0.008064            0.000087       0.00218      0.000018  ...   \n",
       "1          0.008258            0.000073       0.00195      0.000016  ...   \n",
       "2          0.008340            0.000060       0.00176      0.000015  ...   \n",
       "3          0.010858            0.000183       0.00419      0.000046  ...   \n",
       "4          0.008162            0.002669       0.00535      0.000044  ...   \n",
       "\n",
       "   tqwt_kurtosisValue_dec_27  tqwt_kurtosisValue_dec_28  \\\n",
       "0                     1.5466                     1.5620   \n",
       "1                     1.5530                     1.5589   \n",
       "2                     1.5399                     1.5643   \n",
       "3                     6.9761                     3.7805   \n",
       "4                     7.8832                     6.1727   \n",
       "\n",
       "   tqwt_kurtosisValue_dec_29  tqwt_kurtosisValue_dec_30  \\\n",
       "0                     2.6445                     3.8686   \n",
       "1                     3.6107                    23.5155   \n",
       "2                     2.3308                     9.4959   \n",
       "3                     3.5664                     5.2558   \n",
       "4                     5.8416                     6.0805   \n",
       "\n",
       "   tqwt_kurtosisValue_dec_31  tqwt_kurtosisValue_dec_32  \\\n",
       "0                     4.2105                     5.1221   \n",
       "1                    14.1962                    11.0261   \n",
       "2                    10.7458                    11.0177   \n",
       "3                    14.0403                     4.2235   \n",
       "4                     5.7621                     7.7817   \n",
       "\n",
       "   tqwt_kurtosisValue_dec_33  tqwt_kurtosisValue_dec_34  \\\n",
       "0                     4.4625                     2.6202   \n",
       "1                     9.5082                     6.5245   \n",
       "2                     4.8066                     2.9199   \n",
       "3                     4.6857                     4.8460   \n",
       "4                    11.6891                     8.2103   \n",
       "\n",
       "   tqwt_kurtosisValue_dec_35  tqwt_kurtosisValue_dec_36  \n",
       "0                     3.0004                    18.9405  \n",
       "1                     6.3431                    45.1780  \n",
       "2                     3.1495                     4.7666  \n",
       "3                     6.2650                     4.0603  \n",
       "4                     5.0559                     6.1164  \n",
       "\n",
       "[5 rows x 753 columns]"
      ]
     },
     "execution_count": 4,
     "metadata": {},
     "output_type": "execute_result"
    }
   ],
   "source": [
    "X.head()"
   ]
  },
  {
   "cell_type": "code",
   "execution_count": 5,
   "id": "5879f91a-0330-420b-92c2-8853de38ded1",
   "metadata": {},
   "outputs": [],
   "source": [
    "# Feature Selection\n",
    "X_linear =SelectKBest(f_classif, k=519).fit_transform(X, y)"
   ]
  },
  {
   "cell_type": "code",
   "execution_count": 6,
   "id": "2c26ff69-22f0-4902-8cc8-9188bfb53797",
   "metadata": {},
   "outputs": [],
   "source": [
    "# Oversampling\n",
    "smote = SMOTE(random_state=42)\n",
    "X_linear_smote, y_linear_smote = smote.fit_resample(X_linear, y)\n"
   ]
  },
  {
   "cell_type": "code",
   "execution_count": 7,
   "id": "a4494ed9-32d0-4806-a6d7-7fe263991d27",
   "metadata": {},
   "outputs": [],
   "source": [
    "# Feature Scaling\n",
    "scaler = StandardScaler()\n",
    "X_linear_scaled = scaler.fit_transform(X_linear_smote)"
   ]
  },
  {
   "cell_type": "code",
   "execution_count": 8,
   "id": "5200fc3a-7c32-4001-a1fd-3ea656d934b0",
   "metadata": {},
   "outputs": [],
   "source": [
    "# Split data into train and test sets\n",
    "X_train_linear, X_test_linear, y_train_linear, y_test_linear = train_test_split(X_linear_scaled, y_linear_smote, test_size=0.2, random_state=42)\n"
   ]
  },
  {
   "cell_type": "code",
   "execution_count": 9,
   "id": "d4403354-4178-41a9-b838-359b8f9b4958",
   "metadata": {},
   "outputs": [],
   "source": [
    "# Hyperparameter Tuning\n",
    "def evaluate_model(model, X_train, X_test, y_train, y_test):\n",
    "    start_time = time.time()\n",
    "    model.fit(X_train, y_train)\n",
    "    y_pred = model.predict(X_test)\n",
    "    end_time = time.time()\n",
    "    execution_time = end_time - start_time\n",
    "    \n",
    "    conf_matrix = confusion_matrix(y_test, y_pred)\n",
    "    accuracy = accuracy_score(y_test, y_pred)\n",
    "    precision = precision_score(y_test, y_pred)\n",
    "    recall = recall_score(y_test, y_pred)\n",
    "    \n",
    "    print(f\"Confusion Matrix:\\n{conf_matrix}\")\n",
    "    print(f\"Accuracy: {accuracy:.2f}\")\n",
    "    print(f\"Precision: {precision:.2f}\")\n",
    "    print(f\"Recall: {recall:.2f}\")\n",
    "    print(f\"Execution Time: {execution_time:.2f} seconds\")"
   ]
  },
  {
   "cell_type": "code",
   "execution_count": 10,
   "id": "f7c87d8a-75fb-4760-a276-3f8889be58e0",
   "metadata": {},
   "outputs": [],
   "source": [
    "def cross_validate_model(model, X, y, cv=5):\n",
    "    scores = cross_val_score(model, X, y, cv=cv, scoring='accuracy')\n",
    "    print(f\"Cross-Validation Scores: {scores}\")\n",
    "    print(f\"Mean Accuracy: {scores.mean():.2f} (+/- {scores.std():.2f})\")\n"
   ]
  },
  {
   "cell_type": "code",
   "execution_count": 11,
   "id": "26ae4822-4ad7-400b-9097-8ef1706fa451",
   "metadata": {},
   "outputs": [
    {
     "name": "stdout",
     "output_type": "stream",
     "text": [
      "Confusion Matrix:\n",
      "[[64 43]\n",
      " [23 96]]\n",
      "Accuracy: 0.71\n",
      "Precision: 0.69\n",
      "Recall: 0.81\n",
      "Execution Time: 0.01 seconds\n",
      "Cross-Validation Scores: [0.71238938 0.77333333 0.82222222 0.74222222 0.72888889]\n",
      "Mean Accuracy: 0.76 (+/- 0.04)\n"
     ]
    }
   ],
   "source": [
    "# Naive Bayes\n",
    "gnb_linear = GaussianNB()\n",
    "evaluate_model(gnb_linear, X_train_linear, X_test_linear, y_train_linear, y_test_linear)\n",
    "cross_validate_model(gnb_linear, X_linear_scaled, y_linear_smote)"
   ]
  },
  {
   "cell_type": "markdown",
   "id": "e860a609-0743-4e87-baed-fe5989c55a53",
   "metadata": {},
   "source": [
    "***Naive Bayes:***\n",
    "\n",
    "Test set accuracy: 0.71\n",
    "Mean cross-validation accuracy: 0.76\n",
    "Standard deviation: 0.04\n",
    "The mean cross-validation accuracy is slightly higher than the test set accuracy, and the standard deviation is relatively low, indicating that the Naive Bayes model is likely not overfitting."
   ]
  },
  {
   "cell_type": "code",
   "execution_count": 12,
   "id": "cd3922d3-5e7c-464b-b7d6-49f59ce42159",
   "metadata": {},
   "outputs": [
    {
     "name": "stdout",
     "output_type": "stream",
     "text": [
      "Confusion Matrix:\n",
      "[[104   3]\n",
      " [  3 116]]\n",
      "Accuracy: 0.97\n",
      "Precision: 0.97\n",
      "Recall: 0.97\n",
      "Execution Time: 2.41 seconds\n",
      "Cross-Validation Scores: [0.91150442 0.97333333 0.94222222 0.94666667 0.90222222]\n",
      "Mean Accuracy: 0.94 (+/- 0.03)\n"
     ]
    }
   ],
   "source": [
    "# Multi-layer Perceptron\n",
    "mlp_linear = MLPClassifier()\n",
    "mlp_params = {'hidden_layer_sizes': [(50,), (100,), (200,)], 'max_iter': [500, 1000]}\n",
    "mlp_cv_linear = GridSearchCV(mlp_linear, mlp_params, cv=5, scoring='accuracy')\n",
    "mlp_cv_linear.fit(X_train_linear, y_train_linear)\n",
    "evaluate_model(mlp_cv_linear.best_estimator_, X_train_linear, X_test_linear, y_train_linear, y_test_linear)\n",
    "cross_validate_model(mlp_cv_linear.best_estimator_, X_linear_scaled, y_linear_smote)\n"
   ]
  },
  {
   "cell_type": "markdown",
   "id": "2c1988a6-482b-4616-b47c-a1de7d00b98f",
   "metadata": {},
   "source": [
    "***Multi-layer Perceptron:***\n",
    "\n",
    "Test set accuracy: 0.96\n",
    "Mean cross-validation accuracy: 0.94\n",
    "Standard deviation: 0.03\n",
    "The mean cross-validation accuracy is slightly lower than the test set accuracy, and the standard deviation is low. This suggests that the Multi-layer Perceptron model may be slightly overfitting, but not to a concerning degree."
   ]
  },
  {
   "cell_type": "code",
   "execution_count": 13,
   "id": "16083370-5b4e-42ae-bb25-6d8d28487cfc",
   "metadata": {},
   "outputs": [
    {
     "name": "stdout",
     "output_type": "stream",
     "text": [
      "Confusion Matrix:\n",
      "[[104   3]\n",
      " [  8 111]]\n",
      "Accuracy: 0.95\n",
      "Precision: 0.97\n",
      "Recall: 0.93\n",
      "Execution Time: 2.08 seconds\n",
      "Cross-Validation Scores: [0.85840708 0.92888889 0.97333333 0.93777778 0.88444444]\n",
      "Mean Accuracy: 0.92 (+/- 0.04)\n"
     ]
    }
   ],
   "source": [
    "# Random Forest\n",
    "rf_linear = RandomForestClassifier(random_state=42)\n",
    "rf_params = {'n_estimators': [100, 200, 300], 'max_depth': [None, 5, 10]}\n",
    "rf_cv_linear = GridSearchCV(rf_linear, rf_params, cv=5, scoring='accuracy')\n",
    "rf_cv_linear.fit(X_train_linear, y_train_linear)\n",
    "evaluate_model(rf_cv_linear.best_estimator_, X_train_linear, X_test_linear, y_train_linear, y_test_linear)\n",
    "cross_validate_model(rf_cv_linear.best_estimator_, X_linear_scaled, y_linear_smote)"
   ]
  },
  {
   "cell_type": "markdown",
   "id": "9535243d-8568-4247-97cb-2953a7ac7c50",
   "metadata": {},
   "source": [
    "***Random Forest:***\n",
    "\n",
    "Test set accuracy: 0.95\n",
    "Mean cross-validation accuracy: 0.92\n",
    "Standard deviation: 0.04\n",
    "The mean cross-validation accuracy is lower than the test set accuracy, and the standard deviation is moderate. This may indicate that the Random Forest model is overfitting to some extent, but it's not a severe case."
   ]
  },
  {
   "cell_type": "code",
   "execution_count": 14,
   "id": "752f900e-6540-458c-8ccd-eefbf4a03291",
   "metadata": {},
   "outputs": [
    {
     "name": "stdout",
     "output_type": "stream",
     "text": [
      "Confusion Matrix:\n",
      "[[102   5]\n",
      " [ 11 108]]\n",
      "Accuracy: 0.93\n",
      "Precision: 0.96\n",
      "Recall: 0.91\n",
      "Execution Time: 0.05 seconds\n",
      "Cross-Validation Scores: [0.83185841 0.92444444 0.91111111 0.92444444 0.91555556]\n",
      "Mean Accuracy: 0.90 (+/- 0.04)\n"
     ]
    }
   ],
   "source": [
    "# SVM Linear Kernel\n",
    "svm_linear = SVC(kernel='linear')\n",
    "svm_params = {'C': [0.1, 1, 10]}\n",
    "svm_cv_linear = GridSearchCV(svm_linear, svm_params, cv=5, scoring='accuracy')\n",
    "svm_cv_linear.fit(X_train_linear, y_train_linear)\n",
    "evaluate_model(svm_cv_linear.best_estimator_, X_train_linear, X_test_linear, y_train_linear, y_test_linear)\n",
    "cross_validate_model(svm_cv_linear.best_estimator_, X_linear_scaled, y_linear_smote)"
   ]
  },
  {
   "cell_type": "markdown",
   "id": "f0299097-b121-4241-865d-7289aeb4e440",
   "metadata": {},
   "source": [
    "***SVM Linear Kernel:***\n",
    "\n",
    "Test set accuracy: 0.93\n",
    "Mean cross-validation accuracy: 0.90\n",
    "Standard deviation: 0.04\n",
    "The mean cross-validation accuracy is lower than the test set accuracy, and the standard deviation is moderate. This suggests that the SVM Linear Kernel model is overfitting to the training data, and regularization techniques or simpler models may be required."
   ]
  },
  {
   "cell_type": "code",
   "execution_count": 15,
   "id": "be5e684a-3f27-4afb-aea1-5c0dd9cacc21",
   "metadata": {},
   "outputs": [
    {
     "name": "stdout",
     "output_type": "stream",
     "text": [
      "Confusion Matrix:\n",
      "[[104   3]\n",
      " [  2 117]]\n",
      "Accuracy: 0.98\n",
      "Precision: 0.97\n",
      "Recall: 0.98\n",
      "Execution Time: 0.06 seconds\n",
      "Cross-Validation Scores: [0.9159292  0.96444444 0.95555556 0.96888889 0.91111111]\n",
      "Mean Accuracy: 0.94 (+/- 0.02)\n"
     ]
    }
   ],
   "source": [
    "# SVM RBF Kernel\n",
    "svm_rbf_linear = SVC(kernel='rbf')\n",
    "svm_rbf_params = {'C': [0.1, 1, 10], 'gamma': ['scale', 'auto']}\n",
    "svm_rbf_cv_linear = GridSearchCV(svm_rbf_linear, svm_rbf_params, cv=5, scoring='accuracy')\n",
    "svm_rbf_cv_linear.fit(X_train_linear, y_train_linear)\n",
    "evaluate_model(svm_rbf_cv_linear.best_estimator_, X_train_linear, X_test_linear, y_train_linear, y_test_linear)\n",
    "cross_validate_model(svm_rbf_cv_linear.best_estimator_, X_linear_scaled, y_linear_smote)"
   ]
  },
  {
   "cell_type": "markdown",
   "id": "880e2b80-c971-48cc-a45c-ba7740786b5e",
   "metadata": {},
   "source": [
    "***SVM RBF Kernel:***\n",
    "\n",
    "Test set accuracy: 0.98\n",
    "Mean cross-validation accuracy: 0.94\n",
    "Standard deviation: 0.02\n",
    "The mean cross-validation accuracy is lower than the test set accuracy, but the standard deviation is low. This indicates that the SVM RBF Kernel model may be overfitting to some extent, but it's not a major concern."
   ]
  },
  {
   "cell_type": "code",
   "execution_count": null,
   "id": "c8334b52-623a-4978-9bed-cd1c6727f311",
   "metadata": {},
   "outputs": [],
   "source": []
  }
 ],
 "metadata": {
  "kernelspec": {
   "display_name": "Python 3 (ipykernel)",
   "language": "python",
   "name": "python3"
  },
  "language_info": {
   "codemirror_mode": {
    "name": "ipython",
    "version": 3
   },
   "file_extension": ".py",
   "mimetype": "text/x-python",
   "name": "python",
   "nbconvert_exporter": "python",
   "pygments_lexer": "ipython3",
   "version": "3.11.4"
  }
 },
 "nbformat": 4,
 "nbformat_minor": 5
}
